{
 "cells": [
  {
   "cell_type": "code",
   "execution_count": 1,
   "metadata": {
    "metadata": {}
   },
   "outputs": [
    {
     "name": "stderr",
     "output_type": "stream",
     "text": [
      "C:\\Users\\klysm\\AppData\\Local\\Temp\\ipykernel_12052\\3299652216.py:6: DeprecationWarning: \n",
      "Pyarrow will become a required dependency of pandas in the next major release of pandas (pandas 3.0),\n",
      "(to allow more performant data types, such as the Arrow string type, and better interoperability with other libraries)\n",
      "but was not found to be installed on your system.\n",
      "If this would cause problems for you,\n",
      "please provide us feedback at https://github.com/pandas-dev/pandas/issues/54466\n",
      "        \n",
      "  import pandas as pd\n"
     ]
    }
   ],
   "source": [
    "from selenium import webdriver\n",
    "from selenium.webdriver.chrome.service import Service\n",
    "from webdriver_manager.chrome import ChromeDriverManager\n",
    "from bs4 import BeautifulSoup\n",
    "\n",
    "import pandas as pd\n",
    "import csv"
   ]
  },
  {
   "cell_type": "code",
   "execution_count": 2,
   "metadata": {
    "metadata": {}
   },
   "outputs": [],
   "source": [
    "def extract_ship_info(imo_numbers):\n",
    "    # Initialize the Chrome driver\n",
    "    service = Service(ChromeDriverManager().install())\n",
    "    driver = webdriver.Chrome(service=service)\n",
    "\n",
    "    # Initialize an empty dataframe\n",
    "    df = pd.DataFrame()\n",
    "\n",
    "    for imo_number in imo_numbers:\n",
    "        # Access the page\n",
    "        url = f\"https://www.balticshipping.com/vessel/imo/{imo_number}\"\n",
    "        driver.get(url)\n",
    "\n",
    "        # Get the complete HTML content of the page\n",
    "        html_content = driver.page_source\n",
    "\n",
    "        # Create a BeautifulSoup object to parse the HTML\n",
    "        soup = BeautifulSoup(html_content, \"html.parser\")\n",
    "\n",
    "        # Find the div with the class \"ship-info-container\"\n",
    "        ship_info_container = soup.find(\"div\", {\"class\": \"ship-info-container\", \"style\": \"position: relative;\"})\n",
    "\n",
    "        if ship_info_container:\n",
    "            # Find the table within the div\n",
    "            ship_info_table = ship_info_container.find(\"table\", {\"class\": \"table ship-info\", \"style\": \"min-height: 710px;\"})\n",
    "\n",
    "            if ship_info_table:\n",
    "                # Extract the data from the table\n",
    "                data = {}\n",
    "                rows = ship_info_table.find_all(\"tr\")\n",
    "                for row in rows:\n",
    "                    cells = row.find_all(\"td\")\n",
    "                    headers = row.find_all(\"th\")\n",
    "                    if headers and cells:\n",
    "                        data[headers[0].text.strip()] = [cell.text.strip() for cell in cells]\n",
    "\n",
    "                # Convert the data to a dataframe\n",
    "                new_df = pd.DataFrame(data)\n",
    "\n",
    "                # Concatenate the new dataframe with the main dataframe\n",
    "                df = pd.concat([df, new_df], ignore_index=True)\n",
    "\n",
    "            else:\n",
    "                print(f\"Could not find the ship information table for IMO {imo_number}\")\n",
    "        else:\n",
    "            print(f\"Could not find the ship information section for IMO {imo_number}\")\n",
    "\n",
    "    # Close the browser\n",
    "    driver.quit()\n",
    "\n",
    "    # Return the dataframe\n",
    "    return df\n"
   ]
  },
  {
   "cell_type": "code",
   "execution_count": 3,
   "metadata": {
    "metadata": {}
   },
   "outputs": [],
   "source": [
    "#abrir arquivo csv com os imo numbers imos.csv, para cara valor da coluna Imos, amarzenar em uma lista\n",
    "with open('Imos.csv', 'r') as file:\n",
    "    reader = csv.DictReader(file)\n",
    "    imo_numbers = [row['Imo'] for row in reader]"
   ]
  },
  {
   "cell_type": "code",
   "execution_count": 4,
   "metadata": {
    "metadata": {}
   },
   "outputs": [],
   "source": [
    "#remover valores duplicados de imo_numbers\n",
    "imo_numbers = list(set(imo_numbers))"
   ]
  },
  {
   "cell_type": "code",
   "execution_count": 5,
   "metadata": {
    "metadata": {}
   },
   "outputs": [
    {
     "name": "stdout",
     "output_type": "stream",
     "text": [
      "Total IMOs: 405\n",
      "['9326603', '9778117', '9955789', '9349813', '9800025', '9720287', '9301897', '9482562', '9719513', '9294991']\n"
     ]
    }
   ],
   "source": [
    "#contar quantos valores tem em imo_numbers\n",
    "print(f\"Total IMOs: {len(imo_numbers)}\")\n",
    "print(imo_numbers[0:10])"
   ]
  },
  {
   "cell_type": "code",
   "execution_count": 6,
   "metadata": {
    "metadata": {}
   },
   "outputs": [
    {
     "name": "stdout",
     "output_type": "stream",
     "text": [
      "Could not find the ship information section for IMO 9955789\n",
      "Could not find the ship information section for IMO 9877339\n",
      "Could not find the ship information section for IMO 9857171\n",
      "Could not find the ship information section for IMO 9785445\n",
      "Could not find the ship information section for IMO 9857468\n",
      "Could not find the ship information section for IMO 9746255\n",
      "Could not find the ship information section for IMO 9851610\n",
      "Could not find the ship information section for IMO 9851725\n",
      "Could not find the ship information section for IMO 9920497\n",
      "Could not find the ship information section for IMO 9861031\n",
      "Could not find the ship information section for IMO 9756731\n",
      "Could not find the ship information section for IMO 9936616\n",
      "Could not find the ship information section for IMO 9785471\n",
      "Could not find the ship information section for IMO 9785483\n",
      "Could not find the ship information section for IMO 9909572\n",
      "Could not find the ship information section for IMO 9898204\n",
      "Could not find the ship information section for IMO 9745653\n",
      "Could not find the ship information section for IMO 9874105\n",
      "Could not find the ship information section for IMO 9920708\n",
      "Could not find the ship information section for IMO 9897028\n",
      "Could not find the ship information section for IMO 9767340\n",
      "Could not find the ship information section for IMO 9935650\n",
      "Could not find the ship information section for IMO 9770737\n",
      "Could not find the ship information section for IMO 9888601\n",
      "Could not find the ship information section for IMO 9744776\n",
      "Could not find the ship information section for IMO 9905320\n",
      "Could not find the ship information section for IMO 9916616\n",
      "Could not find the ship information section for IMO 9931290\n",
      "Could not find the ship information section for IMO 9936630\n",
      "Could not find the ship information section for IMO 9985344\n",
      "Could not find the ship information section for IMO 9756729\n",
      "Could not find the ship information section for IMO 9873644\n",
      "Could not find the ship information section for IMO 9843352\n",
      "Could not find the ship information section for IMO 9851622\n",
      "Could not find the ship information section for IMO 9936628\n",
      "Could not find the ship information section for IMO 9910337\n",
      "Could not find the ship information section for IMO 9778105\n",
      "Could not find the ship information section for IMO 9930038\n",
      "Could not find the ship information section for IMO 9933652\n",
      "Could not find the ship information section for IMO 9935569\n",
      "Could not find the ship information section for IMO 9853228\n",
      "Could not find the ship information section for IMO 9876335\n",
      "Could not find the ship information section for IMO 9845166\n",
      "Could not find the ship information section for IMO 9998200\n",
      "Could not find the ship information section for IMO 9929431\n",
      "Could not find the ship information section for IMO 9747338\n",
      "Could not find the ship information section for IMO 9930052\n",
      "Could not find the ship information section for IMO 9930064\n",
      "Could not find the ship information section for IMO 9745225\n",
      "Could not find the ship information section for IMO 9765158\n",
      "Could not find the ship information section for IMO 9924211\n",
      "Could not find the ship information section for IMO 9540077\n",
      "Could not find the ship information section for IMO 9757101\n",
      "Could not find the ship information section for IMO 9755725\n",
      "Could not find the ship information section for IMO 9946867\n",
      "Could not find the ship information section for IMO 9932919\n",
      "Could not find the ship information section for IMO 9934747\n",
      "Could not find the ship information section for IMO 9934735\n",
      "Could not find the ship information section for IMO 9931288\n",
      "Could not find the ship information section for IMO 9785457\n",
      "Could not find the ship information section for IMO 9803821\n",
      "Could not find the ship information section for IMO 9857183\n"
     ]
    }
   ],
   "source": [
    "df_imos_caracteristicas = extract_ship_info(imo_numbers)"
   ]
  },
  {
   "cell_type": "code",
   "execution_count": 7,
   "metadata": {
    "metadata": {}
   },
   "outputs": [],
   "source": [
    "#exportar para csv df_imos_caracteristicas\n",
    "df_imos_caracteristicas.to_csv('df_imos_caracteristicas.csv', index=False)"
   ]
  },
  {
   "cell_type": "code",
   "execution_count": 11,
   "metadata": {
    "metadata": {}
   },
   "outputs": [
    {
     "name": "stdout",
     "output_type": "stream",
     "text": [
      "IMO number                  0\n",
      "MMSI                        1\n",
      "Name of the ship            0\n",
      "Former names               86\n",
      "Vessel type                 0\n",
      "Operating status            1\n",
      "Flag                        0\n",
      "Gross tonnage               0\n",
      "Deadweight                  1\n",
      "Length                      1\n",
      "Breadth                     1\n",
      "Engine type               148\n",
      "Year of build               0\n",
      "Builder                    14\n",
      "Classification society     45\n",
      "Home port                  96\n",
      "Owner                      37\n",
      "Manager                    37\n",
      "Description                 0\n",
      "Engine model              173\n",
      "Engine power              151\n",
      "dtype: int64\n"
     ]
    }
   ],
   "source": [
    "#contar valore nulos nas colunas\n",
    "print(df_imos_caracteristicas.isnull().sum())"
   ]
  }
 ],
 "metadata": {
  "kernelspec": {
   "display_name": "ips_cienciadedados",
   "language": "python",
   "name": "python3"
  },
  "language_info": {
   "codemirror_mode": {
    "name": "ipython",
    "version": 3
   },
   "file_extension": ".py",
   "mimetype": "text/x-python",
   "name": "python",
   "nbconvert_exporter": "python",
   "pygments_lexer": "ipython3",
   "version": "3.10.13"
  }
 },
 "nbformat": 4,
 "nbformat_minor": 2
}
