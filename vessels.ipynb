{
 "cells": [
  {
   "cell_type": "code",
   "execution_count": 55,
   "metadata": {},
   "outputs": [],
   "source": [
    "from selenium import webdriver\n",
    "from selenium.webdriver.chrome.service import Service\n",
    "from webdriver_manager.chrome import ChromeDriverManager\n",
    "from bs4 import BeautifulSoup\n",
    "\n",
    "import pandas as pd\n",
    "import csv"
   ]
  },
  {
   "cell_type": "code",
   "execution_count": 66,
   "metadata": {},
   "outputs": [],
   "source": [
    "def extract_ship_info(imo_number):\n",
    "    # Inicializar o driver do Chrome\n",
    "    service = Service(ChromeDriverManager().install())\n",
    "    driver = webdriver.Chrome(service=service)\n",
    "\n",
    "    # Acessar a página\n",
    "    url = f\"https://www.balticshipping.com/vessel/imo/{imo_number}\"\n",
    "    driver.get(url)\n",
    "\n",
    "    # Obter o conteúdo HTML completo da página\n",
    "    html_content = driver.page_source\n",
    "\n",
    "    # Criar um objeto BeautifulSoup para parsear o HTML\n",
    "    soup = BeautifulSoup(html_content, \"html.parser\")\n",
    "\n",
    "    # Encontrar a div com a classe \"ship-info-container\"\n",
    "    ship_info_container = soup.find(\"div\", {\"class\": \"ship-info-container\", \"style\": \"position: relative;\"})\n",
    "\n",
    "    if ship_info_container:\n",
    "        # Encontrar a tabela dentro da div\n",
    "        ship_info_table = ship_info_container.find(\"table\", {\"class\": \"table ship-info\", \"style\": \"min-height: 710px;\"})\n",
    "\n",
    "        if ship_info_table:\n",
    "            # Extrair os dados da tabela\n",
    "            data = []\n",
    "            rows = ship_info_table.find_all(\"tr\")\n",
    "            for row in rows:\n",
    "                cells = row.find_all(\"td\")\n",
    "                row_data = [cell.text.strip() for cell in cells]\n",
    "                data.append(row_data)\n",
    "\n",
    "            # Salvar os dados em um arquivo de texto\n",
    "            with open(f\"{imo_number}.txt\", \"w\", encoding=\"utf-8\") as file:\n",
    "                for row in data:\n",
    "                    file.write(\",\".join(row) + \"\\n\")\n",
    "\n",
    "            print(f\"Dados salvos em {imo_number}.txt\")\n",
    "        else:\n",
    "            print(f\"Não foi possível encontrar a tabela de informações do navio para o IMO {imo_number}\")\n",
    "    else:\n",
    "        print(f\"Não foi possível encontrar a seção de informações do navio para o IMO {imo_number}\")\n",
    "\n",
    "    # Fechar o navegador\n",
    "    driver.quit()"
   ]
  },
  {
   "cell_type": "code",
   "execution_count": 68,
   "metadata": {},
   "outputs": [
    {
     "name": "stdout",
     "output_type": "stream",
     "text": [
      "Dados salvos em 9319179.txt\n"
     ]
    }
   ],
   "source": [
    "extract_ship_info(\"9319179\")\n",
    "\n"
   ]
  }
 ],
 "metadata": {
  "kernelspec": {
   "display_name": "ips_cienciadedados",
   "language": "python",
   "name": "python3"
  },
  "language_info": {
   "codemirror_mode": {
    "name": "ipython",
    "version": 3
   },
   "file_extension": ".py",
   "mimetype": "text/x-python",
   "name": "python",
   "nbconvert_exporter": "python",
   "pygments_lexer": "ipython3",
   "version": "3.10.13"
  }
 },
 "nbformat": 4,
 "nbformat_minor": 2
}
